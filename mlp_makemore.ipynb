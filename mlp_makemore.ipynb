{
 "cells": [
  {
   "cell_type": "code",
   "execution_count": 114,
   "metadata": {},
   "outputs": [],
   "source": [
    "import torch\n",
    "import torch.nn.functional as F\n",
    "import matplotlib.pyplot as plt\n",
    "from random import sample\n",
    "%matplotlib inline\n",
    "\n",
    "DIR = 'data'"
   ]
  },
  {
   "cell_type": "code",
   "execution_count": 115,
   "metadata": {},
   "outputs": [
    {
     "data": {
      "text/plain": [
       "['ieretha', 'bruni', 'bran', 'rachoisa', 'marry']"
      ]
     },
     "execution_count": 115,
     "metadata": {},
     "output_type": "execute_result"
    }
   ],
   "source": [
    "# Reading names\n",
    "words = list(set(open(f'{DIR}/names.txt').read().splitlines()))\n",
    "words[:5]"
   ]
  },
  {
   "cell_type": "code",
   "execution_count": 116,
   "metadata": {},
   "outputs": [
    {
     "name": "stdout",
     "output_type": "stream",
     "text": [
      "['a', 'b', 'c', 'd', 'e', 'f', 'g', 'h', 'i', 'j', 'k', 'l', 'm', 'n', 'o', 'p', 'r', 's', 't', 'u', 'v', 'w', 'y']\n"
     ]
    }
   ],
   "source": [
    "symbols = sorted(list(set(''.join(words))))\n",
    "num_of_symbols = 1 + len(symbols)   # adding '.' to the vocab\n",
    "print(symbols)"
   ]
  },
  {
   "cell_type": "code",
   "execution_count": 117,
   "metadata": {},
   "outputs": [
    {
     "name": "stdout",
     "output_type": "stream",
     "text": [
      "{1: 'a', 2: 'b', 3: 'c', 4: 'd', 5: 'e', 6: 'f', 7: 'g', 8: 'h', 9: 'i', 10: 'j', 11: 'k', 12: 'l', 13: 'm', 14: 'n', 15: 'o', 16: 'p', 17: 'r', 18: 's', 19: 't', 20: 'u', 21: 'v', 22: 'w', 23: 'y', 0: '.'}\n"
     ]
    }
   ],
   "source": [
    "stoi = {ch: i + 1 for i, ch in enumerate(symbols)}\n",
    "stoi['.'] = 0\n",
    "\n",
    "itos = {i: ch for ch, i in stoi.items()}\n",
    "print(itos)"
   ]
  },
  {
   "cell_type": "markdown",
   "metadata": {},
   "source": [
    "### Building dataset\n",
    "_block_size_: context length (how many previous characters are considered in the prediction) \n",
    "\n",
    "_X_: neural net inputs \n",
    "\n",
    "_Y_: neural net input labels"
   ]
  },
  {
   "cell_type": "code",
   "execution_count": 118,
   "metadata": {},
   "outputs": [],
   "source": [
    "block_size = 3\n",
    "X, Y = [], []"
   ]
  },
  {
   "cell_type": "code",
   "execution_count": 119,
   "metadata": {},
   "outputs": [],
   "source": [
    "def train_test_split(X: torch.tensor, Y: torch.tensor, p: float):\n",
    "    train_size = int(p * X.shape[0])\n",
    "\n",
    "    idxs = set([i for i in range(X.shape[0])])\n",
    "    train_idxs = set(sample(idxs, k=train_size))\n",
    "    test_idxs = idxs - train_idxs\n",
    "\n",
    "    train_idxs, test_idxs = list(train_idxs), list(test_idxs)\n",
    "    return X[train_idxs], Y[train_idxs], X[test_idxs], Y[test_idxs]"
   ]
  },
  {
   "cell_type": "code",
   "execution_count": 120,
   "metadata": {},
   "outputs": [],
   "source": [
    "for name in words:\n",
    "    context = [0] * block_size\n",
    "    for ch in name + '.':\n",
    "        idx = stoi[ch]\n",
    "        X.append(context)\n",
    "        Y.append(idx)\n",
    "\n",
    "        # context update\n",
    "        context = context[1:] + [idx] \n",
    "\n",
    "X, Y = torch.tensor(X), torch.tensor(Y)"
   ]
  },
  {
   "cell_type": "code",
   "execution_count": 121,
   "metadata": {},
   "outputs": [
    {
     "name": "stderr",
     "output_type": "stream",
     "text": [
      "/tmp/ipykernel_835/1926032739.py:5: DeprecationWarning: Sampling from a set deprecated\n",
      "since Python 3.9 and will be removed in a subsequent version.\n",
      "  train_idxs = set(sample(idxs, k=train_size))\n"
     ]
    }
   ],
   "source": [
    "X_train, Y_train, X_test, Y_test = train_test_split(X, Y, 0.8)"
   ]
  },
  {
   "cell_type": "markdown",
   "metadata": {},
   "source": [
    "### Layer Classes "
   ]
  },
  {
   "cell_type": "code",
   "execution_count": 122,
   "metadata": {},
   "outputs": [],
   "source": [
    "def add_to_class(Class): \n",
    "    def wrapper(obj):\n",
    "        setattr(Class, obj.__name__, obj)\n",
    "    return wrapper"
   ]
  },
  {
   "cell_type": "code",
   "execution_count": 123,
   "metadata": {},
   "outputs": [],
   "source": [
    "class Linear:\n",
    "    def __init__(self, fan_in: int, fan_out: int, bias: bool=True) -> None:\n",
    "        self.weights = torch.randn((fan_in, fan_out)) / fan_in**0.5\n",
    "        self.bias = torch.zeros(fan_out) if bias else None\n",
    "    \n",
    "    def __call__(self, x: torch.tensor) -> torch.tensor:\n",
    "        self.out = x @ self.weights\n",
    "        if self.bias is not None:\n",
    "            self.out += self.bias\n",
    "        return self.out \n",
    "    \n",
    "    def parameters(self) -> list:\n",
    "        return [self.weights] + ([] if self.bias is None else [self.bias])"
   ]
  },
  {
   "cell_type": "code",
   "execution_count": 124,
   "metadata": {},
   "outputs": [],
   "source": [
    "class BatchNorm1d:\n",
    "    def __init__(self, dim: int, eps: float=1e-5, momentum: float=.1) -> None:\n",
    "        self.eps = eps\n",
    "        self.momentum = momentum\n",
    "        self.training = True\n",
    "\n",
    "        self.gamma = torch.ones(dim)\n",
    "        self.beta = torch.zeros(dim)\n",
    "\n",
    "        self.running_mean = torch.zeros(dim)\n",
    "        self.running_var = torch.ones(dim)\n",
    "    \n",
    "    def parameters(self) -> list:\n",
    "        return [self.gamma, self.beta]"
   ]
  },
  {
   "cell_type": "code",
   "execution_count": 125,
   "metadata": {},
   "outputs": [],
   "source": [
    "@add_to_class(BatchNorm1d)\n",
    "def __call__(self, x: torch.tensor) -> torch.tensor:\n",
    "    if self.training:\n",
    "        x_mean = x.mean(0, keepdims=True)\n",
    "        x_var = x.var(0, keepdims=True)\n",
    "    else:\n",
    "        x_mean = self.running_mean\n",
    "        x_var = self.running_var\n",
    "    \n",
    "    x_hat = (x - x_mean) / torch.sqrt(x_var + self.eps)\n",
    "    self.out = self.gamma * x_hat + self.beta\n",
    "\n",
    "    if self.training:\n",
    "        with torch.no_grad():\n",
    "            self.running_mean = (1-self.momentum) * self.running_mean + self.momentum * x_mean\n",
    "            self.running_var = (1-self.momentum) * self.running_var + self.momentum * x_var\n",
    "        \n",
    "    return self.out"
   ]
  },
  {
   "cell_type": "code",
   "execution_count": 126,
   "metadata": {},
   "outputs": [],
   "source": [
    "class Tanh:\n",
    "    def __call__(self, x: torch.tensor) -> None:\n",
    "        self.out = torch.tanh(x)\n",
    "        return self.out\n",
    "\n",
    "    def parameters(self) -> list:\n",
    "        return []"
   ]
  },
  {
   "cell_type": "markdown",
   "metadata": {},
   "source": [
    "### Parameters and Model Configuration"
   ]
  },
  {
   "cell_type": "code",
   "execution_count": 127,
   "metadata": {},
   "outputs": [],
   "source": [
    "# Hyperparameters\n",
    "emb_dimensions = 10\n",
    "num_of_neurons = 100 \n",
    "\n",
    "minibatch_size = 32\n",
    "num_of_epochs = 200000"
   ]
  },
  {
   "cell_type": "code",
   "execution_count": 128,
   "metadata": {},
   "outputs": [],
   "source": [
    "## NN parameters\n",
    "hl_input_length = block_size * emb_dimensions\n",
    "C = torch.randn((num_of_symbols, emb_dimensions))\n",
    "layers = [\n",
    "    Linear(hl_input_length, num_of_neurons, bias=False), BatchNorm1d(num_of_neurons), Tanh(),\n",
    "    Linear(num_of_neurons, num_of_neurons, bias=False), BatchNorm1d(num_of_neurons), Tanh(),\n",
    "    Linear(num_of_neurons, num_of_neurons, bias=False), BatchNorm1d(num_of_neurons), Tanh(),\n",
    "    Linear(num_of_neurons, num_of_neurons, bias=False), BatchNorm1d(num_of_neurons), Tanh(),\n",
    "    Linear(num_of_neurons, num_of_neurons, bias=False), BatchNorm1d(num_of_neurons), Tanh(),\n",
    "    Linear(num_of_neurons, num_of_symbols, bias=False), BatchNorm1d(num_of_symbols)\n",
    "]"
   ]
  },
  {
   "cell_type": "code",
   "execution_count": 129,
   "metadata": {},
   "outputs": [],
   "source": [
    "with torch.no_grad():\n",
    "    # making last layer less confident\n",
    "    layers[-1].gamma  *= .1\n",
    "\n",
    "    # applying gain to all other linear layers\n",
    "    for layer in layers[:-1]:\n",
    "        if isinstance(layer, Linear):\n",
    "            layer.weights *= 1.0"
   ]
  },
  {
   "cell_type": "code",
   "execution_count": 130,
   "metadata": {},
   "outputs": [],
   "source": [
    "parameters = [C] + [p for layer in layers for p in layer.parameters()]\n",
    "for p in parameters:\n",
    "  p.requires_grad = True"
   ]
  },
  {
   "cell_type": "markdown",
   "metadata": {},
   "source": [
    "### Model Training"
   ]
  },
  {
   "cell_type": "code",
   "execution_count": 131,
   "metadata": {},
   "outputs": [],
   "source": [
    "losses = []\n",
    "epochs = []"
   ]
  },
  {
   "cell_type": "code",
   "execution_count": 132,
   "metadata": {},
   "outputs": [
    {
     "name": "stdout",
     "output_type": "stream",
     "text": [
      "epoch 0/200000: 3.1727\n",
      "epoch 10000/200000: 1.6132\n",
      "epoch 20000/200000: 1.8664\n",
      "epoch 30000/200000: 1.3132\n",
      "epoch 40000/200000: 1.6636\n",
      "epoch 50000/200000: 1.6134\n",
      "epoch 60000/200000: 1.4689\n",
      "epoch 70000/200000: 1.4917\n",
      "epoch 80000/200000: 1.7354\n",
      "epoch 90000/200000: 1.2872\n",
      "epoch 100000/200000: 1.5251\n",
      "epoch 110000/200000: 1.3061\n",
      "epoch 120000/200000: 1.4025\n",
      "epoch 130000/200000: 1.1994\n",
      "epoch 140000/200000: 1.7898\n",
      "epoch 150000/200000: 1.8445\n",
      "epoch 160000/200000: 1.4454\n",
      "epoch 170000/200000: 1.8238\n",
      "epoch 180000/200000: 1.6577\n",
      "epoch 190000/200000: 1.5060\n",
      "epoch 200000/200000: 1.7648\n"
     ]
    }
   ],
   "source": [
    "for i in range(num_of_epochs + 1):\n",
    "    idx = torch.randint(0, X_train.shape[0], (minibatch_size,))\n",
    "    X_batch, Y_batch = X_train[idx], Y_train[idx]\n",
    "\n",
    "    \"\"\" Forward pass \"\"\"\n",
    "    emb = C[X_batch]\n",
    "    x = emb.view(emb.shape[0], -1)                \n",
    "    for layer in layers:\n",
    "        x = layer(x)\n",
    "    loss = F.cross_entropy(x, Y_batch)                        \n",
    "\n",
    "    \"\"\" Backward pass \"\"\"\n",
    "    for p in parameters:\n",
    "        p.grad = None\n",
    "    loss.backward()\n",
    "\n",
    "    \"\"\" Update \"\"\"\n",
    "    lr = 0.1 if i < 150000 else 0.01 # step learning rate decay\n",
    "    for p in parameters:\n",
    "        p.data += -lr * p.grad\n",
    "\n",
    "    \"\"\" Tracking Stats \"\"\"\n",
    "    if not i % 10000:\n",
    "        print(f\"epoch {i}/{num_of_epochs}: {loss.item():.4f}\")\n",
    "    losses.append(loss.item())\n",
    "    epochs.append(i)"
   ]
  },
  {
   "cell_type": "markdown",
   "metadata": {},
   "source": [
    "### Loss curve"
   ]
  },
  {
   "cell_type": "code",
   "execution_count": 136,
   "metadata": {},
   "outputs": [
    {
     "data": {
      "text/plain": [
       "[<matplotlib.lines.Line2D at 0x7f150d1aba30>]"
      ]
     },
     "execution_count": 136,
     "metadata": {},
     "output_type": "execute_result"
    },
    {
     "data": {
      "image/png": "[encoded data removed]",
      "text/plain": [
       "<Figure size 640x480 with 1 Axes>"
      ]
     },
     "metadata": {},
     "output_type": "display_data"
    }
   ],
   "source": [
    "plt.plot(epochs, losses)"
   ]
  },
  {
   "cell_type": "code",
   "execution_count": 137,
   "metadata": {},
   "outputs": [
    {
     "name": "stdout",
     "output_type": "stream",
     "text": [
      "train 1.4439725875854492\n",
      "test 1.4574494361877441\n"
     ]
    }
   ],
   "source": [
    "@torch.no_grad() \n",
    "def split_loss(split):\n",
    "    x,y = {\n",
    "        'train': (X_train, Y_train),\n",
    "        'test': (X_test, Y_test),\n",
    "    }[split]\n",
    "    emb = C[x] \n",
    "    x = emb.view(emb.shape[0], -1) \n",
    "    for layer in layers:\n",
    "        x = layer(x)\n",
    "    loss = F.cross_entropy(x, y)\n",
    "    print(split, loss.item())\n",
    "\n",
    "for layer in layers:\n",
    "    layer.training = False\n",
    "split_loss('train')\n",
    "split_loss('test')"
   ]
  },
  {
   "cell_type": "markdown",
   "metadata": {},
   "source": [
    "### Sampling from the model"
   ]
  },
  {
   "cell_type": "code",
   "execution_count": 138,
   "metadata": {},
   "outputs": [
    {
     "name": "stdout",
     "output_type": "stream",
     "text": [
      "['elendisa', 'eiryl', 'cath', 'ise', 'wippia', 'bilblia', 'darbia', 'mippy', 'anvangra', 'kes']\n"
     ]
    }
   ],
   "source": [
    "samples = []\n",
    "for _ in range(10):\n",
    "    idx, out = 0, \"\"\n",
    "    context = [0] * block_size\n",
    "    while True:\n",
    "        emb = C[torch.tensor([context])] \n",
    "        x = emb.view(emb.shape[0], -1)\n",
    "        for layer in layers:\n",
    "            x = layer(x)\n",
    "        logits = x\n",
    "        probs = F.softmax(logits, dim=1)\n",
    "\n",
    "        idx = torch.multinomial(probs, num_samples=1, replacement=True).item()\n",
    "        context = context[1:] + [idx]\n",
    "        if idx == 0:\n",
    "            break\n",
    "\n",
    "        out += itos[idx]\n",
    "    samples.append(out)\n",
    "\n",
    "print(samples)"
   ]
  },
  {
   "cell_type": "code",
   "execution_count": null,
   "metadata": {},
   "outputs": [],
   "source": []
  }
 ],
 "metadata": {
  "kernelspec": {
   "display_name": "wow",
   "language": "python",
   "name": "python3"
  },
  "language_info": {
   "codemirror_mode": {
    "name": "ipython",
    "version": 3
   },
   "file_extension": ".py",
   "mimetype": "text/x-python",
   "name": "python",
   "nbconvert_exporter": "python",
   "pygments_lexer": "ipython3",
   "version": "3.10.12"
  },
  "orig_nbformat": 4
 },
 "nbformat": 4,
 "nbformat_minor": 2
}
