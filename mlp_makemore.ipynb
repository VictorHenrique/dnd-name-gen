{
 "cells": [
  {
   "cell_type": "code",
   "execution_count": 1,
   "metadata": {},
   "outputs": [],
   "source": [
    "import torch\n",
    "import torch.nn.functional as F\n",
    "import matplotlib.pyplot as plt\n",
    "from random import sample\n",
    "%matplotlib inline\n",
    "\n",
    "DIR = 'data'"
   ]
  },
  {
   "cell_type": "code",
   "execution_count": 2,
   "metadata": {},
   "outputs": [
    {
     "data": {
      "text/plain": [
       "['ieretha', 'bruni', 'bran', 'rachoisa', 'marry']"
      ]
     },
     "execution_count": 2,
     "metadata": {},
     "output_type": "execute_result"
    }
   ],
   "source": [
    "# Reading names\n",
    "words = open(f'{DIR}/names.txt').read().splitlines()\n",
    "words[:5]"
   ]
  },
  {
   "cell_type": "code",
   "execution_count": 3,
   "metadata": {},
   "outputs": [
    {
     "name": "stdout",
     "output_type": "stream",
     "text": [
      "['a', 'b', 'c', 'd', 'e', 'f', 'g', 'h', 'i', 'j', 'k', 'l', 'm', 'n', 'o', 'p', 'r', 's', 't', 'u', 'v', 'w', 'y']\n"
     ]
    }
   ],
   "source": [
    "symbols = sorted(list(set(''.join(words))))\n",
    "num_of_symbols = 1 + len(symbols)   # adding '.' to the vocab\n",
    "print(symbols)"
   ]
  },
  {
   "cell_type": "code",
   "execution_count": 4,
   "metadata": {},
   "outputs": [
    {
     "name": "stdout",
     "output_type": "stream",
     "text": [
      "{1: 'a', 2: 'b', 3: 'c', 4: 'd', 5: 'e', 6: 'f', 7: 'g', 8: 'h', 9: 'i', 10: 'j', 11: 'k', 12: 'l', 13: 'm', 14: 'n', 15: 'o', 16: 'p', 17: 'r', 18: 's', 19: 't', 20: 'u', 21: 'v', 22: 'w', 23: 'y', 0: '.'}\n"
     ]
    }
   ],
   "source": [
    "stoi = {ch: i + 1 for i, ch in enumerate(symbols)}\n",
    "stoi['.'] = 0\n",
    "\n",
    "itos = {i: ch for ch, i in stoi.items()}\n",
    "print(itos)"
   ]
  },
  {
   "cell_type": "markdown",
   "metadata": {},
   "source": [
    "### Building dataset\n",
    "_block_size_: context length (how many previous characters are considered in the prediction) \n",
    "\n",
    "_X_: neural net inputs \n",
    "\n",
    "_Y_: neural net input labels"
   ]
  },
  {
   "cell_type": "code",
   "execution_count": 5,
   "metadata": {},
   "outputs": [],
   "source": [
    "block_size = 3\n",
    "X, Y = [], []"
   ]
  },
  {
   "cell_type": "code",
   "execution_count": 6,
   "metadata": {},
   "outputs": [],
   "source": [
    "def train_test_split(X: torch.tensor, Y: torch.tensor, p: float):\n",
    "    train_size = int(p * X.shape[0])\n",
    "\n",
    "    idxs = set([i for i in range(X.shape[0])])\n",
    "    train_idxs = set(sample(idxs, k=train_size))\n",
    "    test_idxs = idxs - train_idxs\n",
    "\n",
    "    train_idxs, test_idxs = list(train_idxs), list(test_idxs)\n",
    "    return X[train_idxs], Y[train_idxs], X[test_idxs], Y[test_idxs]"
   ]
  },
  {
   "cell_type": "code",
   "execution_count": 7,
   "metadata": {},
   "outputs": [],
   "source": [
    "for name in words:\n",
    "    context = [0] * block_size\n",
    "    for ch in name + '.':\n",
    "        idx = stoi[ch]\n",
    "        X.append(context)\n",
    "        Y.append(idx)\n",
    "\n",
    "        # context update\n",
    "        context = context[1:] + [idx] \n",
    "\n",
    "X, Y = torch.tensor(X), torch.tensor(Y)"
   ]
  },
  {
   "cell_type": "code",
   "execution_count": 8,
   "metadata": {},
   "outputs": [
    {
     "name": "stderr",
     "output_type": "stream",
     "text": [
      "/tmp/ipykernel_835/1926032739.py:5: DeprecationWarning: Sampling from a set deprecated\n",
      "since Python 3.9 and will be removed in a subsequent version.\n",
      "  train_idxs = set(sample(idxs, k=train_size))\n"
     ]
    }
   ],
   "source": [
    "X_train, Y_train, X_test, Y_test = train_test_split(X, Y, 0.8)"
   ]
  },
  {
   "cell_type": "markdown",
   "metadata": {},
   "source": [
    "### Parameters"
   ]
  },
  {
   "cell_type": "code",
   "execution_count": 9,
   "metadata": {},
   "outputs": [],
   "source": [
    "# Hyperparameters\n",
    "emb_dimensions = 10\n",
    "num_of_neurons = 100 \n",
    "\n",
    "minibatch_size = 64\n",
    "num_of_epochs = 100000\n",
    "\n",
    "## NN parameters\n",
    "hl_input_length = block_size * emb_dimensions\n",
    "C = torch.randn((num_of_symbols, emb_dimensions))\n",
    "W1 = torch.randn((hl_input_length, num_of_neurons)) * (5/3) / hl_input_length**0.5\n",
    "W2 = torch.randn((num_of_neurons, num_of_symbols)) * 0.01\n",
    "b2 = torch.zeros(num_of_symbols) \n",
    "bn_gain = torch.ones((1, num_of_neurons))\n",
    "bn_bias = torch.zeros((1, num_of_neurons))\n",
    "\n",
    "bn_mean_running = torch.zeros((1, num_of_neurons))\n",
    "bn_std_running = torch.ones((1, num_of_neurons))"
   ]
  },
  {
   "cell_type": "code",
   "execution_count": 10,
   "metadata": {},
   "outputs": [],
   "source": [
    "parameters = [C, W1, W2, b2, bn_bias, bn_gain]\n",
    "for p in parameters:\n",
    "    p.requires_grad = True"
   ]
  },
  {
   "cell_type": "markdown",
   "metadata": {},
   "source": [
    "### Model Training"
   ]
  },
  {
   "cell_type": "code",
   "execution_count": 32,
   "metadata": {},
   "outputs": [],
   "source": [
    "lre = torch.linspace(-3, 0, num_of_epochs)\n",
    "lrs = 10**lre"
   ]
  },
  {
   "cell_type": "code",
   "execution_count": 11,
   "metadata": {},
   "outputs": [],
   "source": [
    "# Once the learning rates were evaluated, we choose a good one\n",
    "lr = 10**-1"
   ]
  },
  {
   "cell_type": "code",
   "execution_count": 12,
   "metadata": {},
   "outputs": [],
   "source": [
    "losses = []"
   ]
  },
  {
   "cell_type": "code",
   "execution_count": 13,
   "metadata": {},
   "outputs": [
    {
     "name": "stdout",
     "output_type": "stream",
     "text": [
      "epoch 0, loss=3.1831371784210205\n",
      "epoch 10000, loss=1.5443618297576904\n",
      "epoch 20000, loss=1.6444400548934937\n",
      "epoch 30000, loss=1.602728009223938\n",
      "epoch 40000, loss=1.4292651414871216\n",
      "epoch 50000, loss=1.4054670333862305\n",
      "epoch 60000, loss=1.5445952415466309\n",
      "epoch 70000, loss=1.4850598573684692\n",
      "epoch 80000, loss=1.4801595211029053\n",
      "epoch 90000, loss=1.2903544902801514\n"
     ]
    }
   ],
   "source": [
    "# Stochastic Gradient Descent\n",
    "for i in range(num_of_epochs):\n",
    "    idx = torch.randint(0, X_train.shape[0], (minibatch_size,))\n",
    "\n",
    "    \"\"\" Forward pass \"\"\"\n",
    "    emb = C[X_train[idx]]\n",
    "    emb_cat = emb.view(-1, hl_input_length)                \n",
    "    h_preac = emb_cat @ W1                                              # hidden layer preactivation\n",
    "    bn_meani = h_preac.mean(0, keepdim=True)                            \n",
    "    bn_stdi =  h_preac.std(0, keepdim=True)                                 \n",
    "    h_preac = bn_gain * (h_preac - bn_meani) / bn_stdi  + bn_bias       # batch norm\n",
    "    with torch.no_grad():\n",
    "        bn_mean_running = 0.999 * bn_mean_running + 0.001 * bn_meani\n",
    "        bn_std_running = 0.999 * bn_std_running + 0.001 * bn_stdi\n",
    "\n",
    "    h = torch.tanh(h_preac)                                             # hidden layer\n",
    "    logits = h @ W2 + b2                                                # output layer\n",
    "    loss = F.cross_entropy(logits, Y_train[idx])                        # loss\n",
    "    losses.append(loss.log10().item())\n",
    "\n",
    "    if not i % 10000:\n",
    "        print(f\"epoch {i}, loss={loss.item()}\")\n",
    "\n",
    "    \"\"\" Backward pass \"\"\"\n",
    "    for p in parameters:\n",
    "        p.grad = None\n",
    "    loss.backward()\n",
    "\n",
    "    \"\"\" Update \"\"\"\n",
    "    lr = lr/2 if i == num_of_epochs//2 else lr \n",
    "    for p in parameters:\n",
    "        p.data += -lr * p.grad"
   ]
  },
  {
   "cell_type": "markdown",
   "metadata": {},
   "source": [
    "### Searching for a good learning rate\n",
    "Based on the first 1000 epochs, the learning rates used generated the following losses"
   ]
  },
  {
   "cell_type": "code",
   "execution_count": null,
   "metadata": {},
   "outputs": [
    {
     "data": {
      "text/plain": [
       "[<matplotlib.lines.Line2D at 0x7f3a9064f040>]"
      ]
     },
     "execution_count": 38,
     "metadata": {},
     "output_type": "execute_result"
    },
    {
     "data": {
      "image/png": "[encoded data removed]",
      "text/plain": [
       "<Figure size 640x480 with 1 Axes>"
      ]
     },
     "metadata": {},
     "output_type": "display_data"
    }
   ],
   "source": [
    "plt.plot(lre, losses)"
   ]
  },
  {
   "cell_type": "markdown",
   "metadata": {},
   "source": [
    "We can see that around $lr=-1$, the loss was at its lowest. Therefore, that value will be used for the training"
   ]
  },
  {
   "cell_type": "markdown",
   "metadata": {},
   "source": [
    "### Loss curve"
   ]
  },
  {
   "cell_type": "code",
   "execution_count": 14,
   "metadata": {},
   "outputs": [
    {
     "data": {
      "text/plain": [
       "[<matplotlib.lines.Line2D at 0x7f151610cf70>]"
      ]
     },
     "execution_count": 14,
     "metadata": {},
     "output_type": "execute_result"
    },
    {
     "data": {
      "image/png": "[encoded data removed]",
      "text/plain": [
       "<Figure size 640x480 with 1 Axes>"
      ]
     },
     "metadata": {},
     "output_type": "display_data"
    }
   ],
   "source": [
    "plt.plot(torch.arange(0, num_of_epochs), losses)"
   ]
  },
  {
   "cell_type": "markdown",
   "metadata": {},
   "source": [
    "### Test loss"
   ]
  },
  {
   "cell_type": "code",
   "execution_count": 16,
   "metadata": {},
   "outputs": [
    {
     "name": "stdout",
     "output_type": "stream",
     "text": [
      "split='train': 1.483785629272461\n",
      "split='test': 1.4906799793243408\n"
     ]
    }
   ],
   "source": [
    "@torch.no_grad()\n",
    "def split_loss(split):\n",
    "    x,y = {\n",
    "        'train': (X_train, Y_train),\n",
    "        'test': (X_test, Y_test)\n",
    "    }[split]\n",
    "\n",
    "    emb = C[x]\n",
    "    emb_cat = emb.view(emb.shape[0], -1)\n",
    "    h_preac = emb_cat @ W1\n",
    "    h_preac = bn_gain * (h_preac - bn_mean_running) / bn_std_running + bn_bias   \n",
    "    h = torch.tanh(h_preac)\n",
    "    logits = h @ W2 + b2\n",
    "    loss = F.cross_entropy(logits, y)\n",
    "    print(f\"{split=}: {loss.item()}\")\n",
    "\n",
    "split_loss('train')\n",
    "split_loss('test')"
   ]
  },
  {
   "cell_type": "markdown",
   "metadata": {},
   "source": [
    "### Sampling from the model"
   ]
  },
  {
   "cell_type": "code",
   "execution_count": 17,
   "metadata": {},
   "outputs": [
    {
     "name": "stdout",
     "output_type": "stream",
     "text": [
      "['sival', 'anois', 'thardel', 'temina', 'dalindinn', 'kolwolla', 'aulen', 'geretto', 'domunda', 'arnell']\n"
     ]
    }
   ],
   "source": [
    "samples = []\n",
    "for _ in range(10):\n",
    "    idx, out = 0, \"\"\n",
    "    context = [0] * block_size\n",
    "    while True:\n",
    "        emb = C[torch.tensor([context])]\n",
    "        emb_cat = emb.view(emb.shape[0], -1)\n",
    "        h_preac = emb_cat @ W1\n",
    "        h_preac = bn_gain * (h_preac - bn_mean_running) / bn_std_running + bn_bias   \n",
    "        h = torch.tanh(h_preac)\n",
    "        logits = h @ W2 + b2\n",
    "        probs = F.softmax(logits, dim=1)\n",
    "\n",
    "        idx = torch.multinomial(probs, num_samples=1, replacement=True).item()\n",
    "        context = context[1:] + [idx]\n",
    "        if idx == 0:\n",
    "            break\n",
    "\n",
    "        out += itos[idx]\n",
    "    samples.append(out)\n",
    "\n",
    "print(samples)"
   ]
  },
  {
   "cell_type": "code",
   "execution_count": null,
   "metadata": {},
   "outputs": [],
   "source": []
  }
 ],
 "metadata": {
  "kernelspec": {
   "display_name": "wow",
   "language": "python",
   "name": "python3"
  },
  "language_info": {
   "codemirror_mode": {
    "name": "ipython",
    "version": 3
   },
   "file_extension": ".py",
   "mimetype": "text/x-python",
   "name": "python",
   "nbconvert_exporter": "python",
   "pygments_lexer": "ipython3",
   "version": "3.10.12"
  },
  "orig_nbformat": 4
 },
 "nbformat": 4,
 "nbformat_minor": 2
}
